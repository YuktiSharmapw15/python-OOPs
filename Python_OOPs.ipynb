{
  "nbformat": 4,
  "nbformat_minor": 0,
  "metadata": {
    "colab": {
      "provenance": []
    },
    "kernelspec": {
      "name": "python3",
      "display_name": "Python 3"
    },
    "language_info": {
      "name": "python"
    }
  },
  "cells": [
    {
      "cell_type": "markdown",
      "source": [
        "# Python OOPs"
      ],
      "metadata": {
        "id": "v5JwS0d8OJu-"
      }
    },
    {
      "cell_type": "markdown",
      "source": [
        "1. What is object-oriented programming (OOP)?\n",
        "   - OOP is a programming paradigm based on organizing code around objects-data structures that contain both data (attributes) and the means to operate on that data (methods).It helps with code reusability, modularity, and modeling real-world systems.\n",
        "2. What is a class in OOP?\n",
        "   - A class is a blueprint for creating objects. it defines attributes and behaviors common to all objects of its type, letting programmers structure and manage code efficiently.\n",
        "3. What is an onject in OOP?\n",
        "   - An object is an instance of a class. it represents a specific element created based on the class blueprint, with actual values assigned to its data fields.\n",
        "4. What is the difference between abstraction and encapsulation?\n",
        "   - Abstraction refers to hiding complex implementation details and showing only essential features to the user. Encapsulation is bundling data and methods into a single unit and restricting direct access to some of the objects components.\n",
        "5. What are dunder methods in python?\n",
        "   - Dunder methods (double underscore methods) are special functions in python like __init__, __str__.etc., Which let objects interact with built in operations. For example, __init__ initializes new objects, while __str__ defines how objects are represented as strings.\n",
        "6. Explain the concept of inheritance in OOP.\n",
        "   - Inheritance allows one class (the child or subclass) to inherit attributes and methods from another class (the parent or superclass),enabling code reuse and the creation of more complex systems from simpler ones.\n",
        "7. What is polymorphism in OOP?\n",
        "   - Polymorphism allows objects of different classes to be treated as objects of a common superclass and react differently to the same method call, depending on their class.\n",
        "8. How is encapsulation achieved in python?\n",
        "   - Encapsulation in python uses naming conventions like a single underscore (_) or double underscore (__) before attribute names to indicate they should not be accessed directly from outside the class.\n",
        "9. What is a constructor in python?\n",
        "   - A constructor is a special method called __init__ in python that gets executed whenever a new object is created from a class, typically used to initialize data members.\n",
        "10. What are class and static methods in python?\n",
        "    - A class method is bound to the class and not the object; It receives the class as its first argument (commonly cls). A static method has no access to the class or instance and behaves like a regular function but belongs to the class's namespace.\n",
        "11. What is method overloading in OOP?\n",
        "    - Method overloading is the ability to define multiple methods with the same name but different parameters. In python, actual overloading isnt supported, but default arguments or *args/**kwargs can be used to achieve similar behavior.\n",
        "12. What is method overriding in OOP?\n",
        "    - Method overriding is defining a method in a subclass with the same name as a method in its superclass, allowing the subclass to provide a specific implementation.\n",
        "13. What is a property decorater in python?\n",
        "    - The property decorater lets you define methods that can be accessed like attributes, making it easy to implement getters/setters while keeping attribute access syntax clean.\n",
        "14. Why is polymorphism important in OOP?\n",
        "    - Polymorphism simplifies code and increases flexibility. It allows functions to use objects of different classes interchangeably, as long as they implement the required methods.\n",
        "15. What is an abstract class in python?\n",
        "    - An abstract class provides a base for other classes and cannot be instantiated directly. It may contain absract methods that must be defined in derived classes, usually declared with that abc module.\n",
        "16. What are the advantages of OOP?\n",
        "    - OOP improves code reusability through inheritance, hides complexity through abstraction, protects data via encapsulation, and promotes maintainable, scalable programs.\n",
        "17. What is the difference between a class variable and an instance variable?\n",
        "    - Class variables are shared across all objects of a class, while instance variables are unique to each object. Changing an instance variable affects only that instance.\n",
        "18. What is multiple inheritance in python?\n",
        "    - Multiple inheritance means a class can inherit from more than one base class. This lets it combine functionality from several sources, but can introduce complexity like the diamond problem.\n",
        "19. Explain the purpose of __str__ and __repr__ methods in python.\n",
        "    - __str__ returns a  readable string for end users (printed output), while __repr__ returns an unambiguous string useful for developers and debugging. both let you customize how objects are reprented as strings.\n",
        "20. What is the significance of the super () function in python?\n",
        "    - super() gives access methods of a superclass from the subclass, commonly used to call the superclass constructor or methods when overriding them.\n",
        "21. What is the significance of the __del__ method in python?\n",
        "    - __del__ is a destructor called when an object is about to be destroyed, allowing you to release resources like closing files. However, explicit resource management is usually preferred.\n",
        "22. What is the difference between @staticmethod and @classmethod in python?\n",
        "    - @staticmethod defines a method that doesnt access the class or instance. @classmethod receives the class as its first argument, letting it access or modify class state.\n",
        "23. How does polymorphism work in python with inheritance?\n",
        "    - With inheritance, subclasses can override methods of the base class. when methods are called on base class references holding subclass objects, the overridden version in the subclass gets executed.\n",
        "24. What is method chaining in python OOP?\n",
        "    - Method chaining means calling multiple methods sequentially on an object, like obj.method1().method2(). its achieved by returning self from each method.\n",
        "25. What is the purpose of the __call__ method in python?\n",
        "    - The __call__ method lets an object be called like a function. if a class defines __call__, its objects can be invoked with parentheses, like obj(), which triggers the methods code.  "
      ],
      "metadata": {
        "id": "Bs_dS4LLOUja"
      }
    },
    {
      "cell_type": "code",
      "source": [
        "# Create a parent class Animal with a method speak() that prints a generic message. Create a child class Dog that overrides the speak() method to print \"bark!\".\n",
        "\n",
        "class animal:\n",
        "  def speak(self):\n",
        "    print(\"this animal makes a sound.\")\n",
        "    class dog(animal):\n",
        "      def speak(self):\n",
        "        print(\"bark!\")"
      ],
      "metadata": {
        "id": "nooYk-WNf1Mw"
      },
      "execution_count": 5,
      "outputs": []
    },
    {
      "cell_type": "code",
      "source": [
        "# 2. Write a program to create an abstract class Shape with a method area(). Derive classes Circle and Rectangle from it and implement the area() method in both.\n",
        "\n"
      ],
      "metadata": {
        "id": "MAioDISLiG-k"
      },
      "execution_count": null,
      "outputs": []
    },
    {
      "cell_type": "code",
      "metadata": {
        "id": "6189f371"
      },
      "source": [
        "from abc import ABC, abstractmethod\n",
        "\n",
        "class Shape(ABC):\n",
        "    @abstractmethod\n",
        "    def area(self):\n",
        "        pass\n",
        "\n",
        "class Circle(Shape):\n",
        "    def __init__(self, radius):\n",
        "        self.radius = radius\n",
        "\n",
        "    def area(self):\n",
        "        return 3.14 * self.radius * self.radius\n",
        "\n",
        "class Rectangle(Shape):\n",
        "    def __init__(self, width, height):\n",
        "        self.width = width\n",
        "        self.height = height\n",
        "\n",
        "    def area(self):\n",
        "        return self.width * self.height"
      ],
      "execution_count": 7,
      "outputs": []
    },
    {
      "cell_type": "code",
      "source": [
        "#  Implement a multi-level inheritance scenario where a class Vehicle has an attribute type. Derive a class Car and further derive a class electricCar that adds a battery attribute.\n",
        "\n",
        "class vehicle:\n",
        "  def __init__(self,type):\n",
        "    self.type=type\n",
        "\n",
        "class car(vehicle):\n",
        "  def __init__(self,type,model):\n",
        "    super().__init__(type)\n",
        "    self.model=model\n",
        "\n",
        "class electriccar(car):\n",
        "  def __init__(self,type,model,battery):\n",
        "    super().__init__(type,model)\n",
        "    self.battery=battery"
      ],
      "metadata": {
        "id": "AYJ-_z4WjIo1"
      },
      "execution_count": 8,
      "outputs": []
    },
    {
      "cell_type": "code",
      "source": [
        "# 4. Demonstrate polymorphism by creating a base class Bird with a method fly(). Create two derived classes sparrow and penguin that override the fly() method.\n",
        "\n",
        "class bird:\n",
        "  def fly(self):\n",
        "    print(\"this bird can fly\")\n",
        "\n",
        "class sparrow(bird):\n",
        "  def fly(self):\n",
        "    print(\"this sparrow can fly\")\n",
        "\n",
        "class penguin(bird):\n",
        "  def fly(self):\n",
        "    print(\"this penguin cannot fly\")"
      ],
      "metadata": {
        "id": "oWe0PXOwkzLg"
      },
      "execution_count": 9,
      "outputs": []
    },
    {
      "cell_type": "code",
      "source": [
        "#  Write a program to demonstrate encapsulation by creating a class BankAccount with private attributes balance and methods to deposit, withdraw, and check balance.\n",
        "\n",
        "class bankaccount:\n",
        "  def __init__(self,balance):\n",
        "    self.__balance=balance\n",
        "    def deposit(self,amount):\n",
        "      self.__balance+=amount\n",
        "  def withdraw(self,amount):\n",
        "    if amount<=self.__balance:\n",
        "      self.__balance-=amount\n",
        "    else:\n",
        "      print(\"insufficient balance\")\n",
        "      def checkbalance(self):\n",
        "        return self.__balance"
      ],
      "metadata": {
        "id": "2P9N0KhGlLcr"
      },
      "execution_count": 10,
      "outputs": []
    },
    {
      "cell_type": "code",
      "source": [
        "# Demonstrate runtime polymorphism using a method play() in a base class Instrument. Derive classes Guitar and piano that implement their own version of play().\n",
        "\n",
        "class instrument:\n",
        "  def play(self):\n",
        "    print(\"this instrument is playing\")\n",
        "\n",
        "class guitar(instrument):\n",
        "  def play(self):\n",
        "    print(\"this guitar is playing\")\n",
        "\n",
        "class piano(instrument):\n",
        "  def play(self):\n",
        "    print(\"this piano is playing\")"
      ],
      "metadata": {
        "id": "rzW4pvYplk-a"
      },
      "execution_count": 12,
      "outputs": []
    },
    {
      "cell_type": "code",
      "source": [
        "# Create a class MathOperations with a class method add_numbers() to add two numbers and a static method subtract_numbers() to subtract two numbers.\n",
        "\n",
        "class mathoperations:\n",
        "  @classmethod\n",
        "  def add_numbers(cls,a,b):\n",
        "    return a+b\n",
        "  @staticmethod\n",
        "  def subtract_numbers(a,b):\n",
        "    return a-b"
      ],
      "metadata": {
        "id": "0fnpvb0Fl-JM"
      },
      "execution_count": 13,
      "outputs": []
    },
    {
      "cell_type": "code",
      "source": [
        "# Implement a class Person with a class method to count the total number of persons created.\n",
        "\n",
        "class person:\n",
        "  count=0\n",
        "  def __init__(self,name):\n",
        "    self.name=name\n",
        "    person.count+=1\n",
        "  @classmethod\n",
        "  def total_persons(cls):\n",
        "    return cls.count"
      ],
      "metadata": {
        "id": "VmwbtrdSmUg8"
      },
      "execution_count": 15,
      "outputs": []
    },
    {
      "cell_type": "code",
      "source": [
        "# Write a class Fraction with attributes numerator and denominator. Override the str method to display the fraction as \"numerator/demominator\".\n",
        "\n",
        "class fraction:\n",
        "  def __init__(self,numerator,denominator):\n",
        "    self.numerator=numerator\n",
        "    self.denominator=denominator\n",
        "  def __str__(self):\n",
        "    return f\"{self.numerator}/{self.denominator}\""
      ],
      "metadata": {
        "id": "CRPIHyzXm9h_"
      },
      "execution_count": 16,
      "outputs": []
    },
    {
      "cell_type": "code",
      "source": [
        "# Demonstrate operator overloading by creating a class Vector and overriding the add method to add two vectors.\n",
        "\n",
        "class vector:\n",
        "  def __init__(self,x,y):\n",
        "    self.x=x\n",
        "    self.y=y\n",
        "  def __add__(self,other):\n",
        "    return vector(self.x+other.x,self.y+other.y)"
      ],
      "metadata": {
        "id": "CzgW_yEqnUuH"
      },
      "execution_count": 18,
      "outputs": []
    },
    {
      "cell_type": "code",
      "source": [
        "#  Create a class Person with attributes name and age. Add a method greet() that prints \"Hello, my name is {name} and i am {age} years old\".\n",
        "\n",
        "class person:\n",
        "  def __init__(self,name,age):\n",
        "    self.name=name\n",
        "    self.age=age\n",
        "  def greet(self):\n",
        "    print(f\"hello, my name is {self.name} and i am {self.age} years old.\")"
      ],
      "metadata": {
        "id": "3rM32JpQnxQ3"
      },
      "execution_count": 22,
      "outputs": []
    },
    {
      "cell_type": "code",
      "source": [
        "# Implement a class Student with attributes name and grades. Create a method average_grade() to compute the average of the grades.\n",
        "\n",
        "class student:\n",
        "  def __init__(self,name,grades):\n",
        "    self.name=name\n",
        "    self.grades=grades\n",
        "  def average_grade(self):\n",
        "    return sum(self.grades)/len(self.grades)"
      ],
      "metadata": {
        "id": "AgwJr_HUoZrP"
      },
      "execution_count": 23,
      "outputs": []
    },
    {
      "cell_type": "code",
      "source": [
        "#  Create a class Rectangle with methods set_dimensions() to set the dimensions and area() to calculate the area.\n",
        "\n",
        "class rectangle:\n",
        "  def set_dimensions(self, width, height):\n",
        "      self.width = width\n",
        "      self.height = height\n",
        "\n",
        "  def area(self):\n",
        "      return self.width * self.height\n"
      ],
      "metadata": {
        "id": "ztB85E2cpI06"
      },
      "execution_count": 24,
      "outputs": []
    },
    {
      "cell_type": "code",
      "source": [
        "# Create a class Employee with a method calculate_salary() that computes the salary based on hours worked and hourly rate. create a derived class manager that adds a bonus to the salary.\n",
        "\n",
        "class employee:\n",
        "  def calculate_salary(self,hours_worked,hourly_rate):\n",
        "    return hours_worked*hourly_rate\n",
        "    class manager(employee):\n",
        "      def calculate_salary(self,hours_worked,hourly_rate):\n",
        "        base_salary=super().calculate_salary(hours_worked,hourly_rate)\n",
        "        return base_salary+500"
      ],
      "metadata": {
        "id": "D9DF6PiApwUs"
      },
      "execution_count": 25,
      "outputs": []
    },
    {
      "cell_type": "code",
      "source": [
        "# Create a class Product with attributes name, price, and quantity. Implement a method total_price() that calculates the total price of the product.\n",
        "\n",
        "class product:\n",
        "  def __init__(self,name,price,quantity):\n",
        "    self.name=name\n",
        "    self.price=price\n",
        "    self.quantity=quantity\n",
        "  def total_price(self):\n",
        "    return self.price*self.quantity"
      ],
      "metadata": {
        "id": "18rli2TMqskM"
      },
      "execution_count": 26,
      "outputs": []
    },
    {
      "cell_type": "code",
      "source": [
        "# Create a class Animal with an abstract method sound(). Create two derived classes Cow and Sheep that implement the sound() method.\n",
        "\n",
        "from abc import ABC, abstractmethod\n",
        "\n",
        "class animal(ABC):\n",
        "  @abstractmethod\n",
        "  def sound(self):\n",
        "    pass\n",
        "\n",
        "class cow(animal):\n",
        "  def sound(self):\n",
        "    print(\"moo\")\n",
        "\n",
        "class sheep(animal):\n",
        "  def sound(self):\n",
        "    print(\"baa!\")"
      ],
      "metadata": {
        "id": "2z0VR_KZrB_W"
      },
      "execution_count": 27,
      "outputs": []
    },
    {
      "cell_type": "code",
      "source": [
        "# Create a class Book with attributes title, author, and year_published. Add a method get_book_info() that returns a formatted string with the books details.\n",
        "\n",
        "class book:\n",
        "  def __init__(self,title,author,year_published):\n",
        "    self.title=title\n",
        "    self.author=author\n",
        "    self.year_published=year_published\n",
        "    def get_book_info(self):\n",
        "      return f\"Title: {self.title}\\nAuthor: {self.author}\\nYear Published: {self.year_published}\""
      ],
      "metadata": {
        "id": "ZvYyWHbwrlt2"
      },
      "execution_count": 28,
      "outputs": []
    },
    {
      "cell_type": "code",
      "source": [
        "# Create a class House with attributes address and price. Create a derived class Mansion that adds an attribute number_of_rooms.\n",
        "\n",
        "class house:\n",
        "  def __init__(self,address,price):\n",
        "    self.address=address\n",
        "    self.price=price\n",
        "\n",
        "class mansion(house):\n",
        "  def __init__(self,address,price,number_of_rooms):\n",
        "    super().__init__(address,price)"
      ],
      "metadata": {
        "id": "ryKySV9br7j9"
      },
      "execution_count": 29,
      "outputs": []
    }
  ]
}